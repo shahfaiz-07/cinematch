{
 "cells": [
  {
   "cell_type": "markdown",
   "id": "c9fba429",
   "metadata": {},
   "source": [
    "## Importing the libraries"
   ]
  },
  {
   "cell_type": "code",
   "execution_count": 15,
   "id": "c0f81e54",
   "metadata": {},
   "outputs": [],
   "source": [
    "import numpy as np\n",
    "import pandas as pd\n",
    "import os\n",
    "import json\n",
    "import re\n",
    "import pickle\n",
    "from sklearn.feature_extraction.text import CountVectorizer\n",
    "from sklearn.metrics.pairwise import cosine_similarity\n",
    "from nltk.corpus import stopwords\n",
    "from nltk.stem.porter import PorterStemmer\n",
    "from scipy.sparse import csr_matrix, save_npz"
   ]
  },
  {
   "cell_type": "markdown",
   "id": "fb6c2319",
   "metadata": {},
   "source": [
    "## Importing the datasets"
   ]
  },
  {
   "cell_type": "code",
   "execution_count": 16,
   "id": "0db6ea45",
   "metadata": {},
   "outputs": [],
   "source": [
    "movie_dataset = pd.read_csv('dataset/tmdb_5000_movies.csv')\n",
    "credits_dataset = pd.read_csv('dataset/tmdb_5000_credits.csv')"
   ]
  },
  {
   "cell_type": "markdown",
   "id": "84d2384d",
   "metadata": {},
   "source": [
    "## Merging the datasets"
   ]
  },
  {
   "cell_type": "code",
   "execution_count": 17,
   "id": "1b6724ff",
   "metadata": {},
   "outputs": [],
   "source": [
    "full_dataset = pd.merge(movie_dataset, credits_dataset, on='title')"
   ]
  },
  {
   "cell_type": "markdown",
   "id": "00acfe96",
   "metadata": {},
   "source": [
    "## Keeping only relevant columns"
   ]
  },
  {
   "cell_type": "code",
   "execution_count": 18,
   "id": "28838b6c",
   "metadata": {},
   "outputs": [],
   "source": [
    "dataset = full_dataset[[\"genres\", \"id\", \"keywords\", \"overview\", \"title\", \"cast\", \"crew\"]]"
   ]
  },
  {
   "cell_type": "markdown",
   "id": "f8fd3274",
   "metadata": {},
   "source": [
    "## Removing missing data"
   ]
  },
  {
   "cell_type": "code",
   "execution_count": 19,
   "id": "f65901eb",
   "metadata": {},
   "outputs": [],
   "source": [
    "dataset = dataset.dropna()"
   ]
  },
  {
   "cell_type": "markdown",
   "id": "00fcdba5",
   "metadata": {},
   "source": [
    "## Refining the columns"
   ]
  },
  {
   "cell_type": "code",
   "execution_count": 20,
   "id": "ade62c42",
   "metadata": {},
   "outputs": [],
   "source": [
    "def refine_genres_keywords(genres):\n",
    "    l = []\n",
    "    for genre in json.loads(genres):\n",
    "        l.append(genre[\"name\"].replace(\" \", \"\"))\n",
    "    return \" \".join(l).lower()\n",
    "\n",
    "dataset[\"genres\"] = dataset[\"genres\"].apply(refine_genres_keywords)\n",
    "dataset[\"keywords\"] = dataset[\"keywords\"].apply(refine_genres_keywords)\n",
    "\n",
    "def refine_cast(args):\n",
    "    l = []\n",
    "    for index, arg in enumerate(json.loads(args)):\n",
    "        l.append(arg[\"name\"].replace(\" \", \"\"))\n",
    "        if index == 2: break\n",
    "    return \" \".join(l).lower()\n",
    "\n",
    "dataset[\"cast\"] = dataset[\"cast\"].apply(refine_cast)\n",
    "\n",
    "def refine_crew(crews):\n",
    "    for crew in json.loads(crews):\n",
    "        if crew[\"job\"] == \"Director\":\n",
    "            return crew[\"name\"].replace(\" \", \"\").lower()\n",
    "    return None\n",
    "\n",
    "dataset[\"crew\"] = dataset[\"crew\"].apply(refine_crew)"
   ]
  },
  {
   "cell_type": "markdown",
   "id": "df3ba817",
   "metadata": {},
   "source": [
    "## Cleaning overview column"
   ]
  },
  {
   "cell_type": "code",
   "execution_count": 21,
   "id": "7146453f",
   "metadata": {},
   "outputs": [],
   "source": [
    "stop_words = set(stopwords.words('english'))\n",
    "negations = {\"not\", \"no\", \"nor\", \"n't\", \"never\", \"none\"}\n",
    "stop_words = stop_words - negations\n",
    "ps = PorterStemmer()\n",
    "\n",
    "def refine_overview(overview):\n",
    "    overview = re.sub(\"[^a-zA-Z0-9]\", \" \", overview)\n",
    "    overview  = overview.lower()\n",
    "    overview = overview.split()\n",
    "    overview = [ps.stem(word) for word in overview if word not in stop_words]\n",
    "    return \" \".join(overview)\n",
    "\n",
    "dataset[\"overview\"] = dataset[\"overview\"].apply(refine_overview)"
   ]
  },
  {
   "cell_type": "markdown",
   "id": "1cf5322c",
   "metadata": {},
   "source": [
    "## Creating new column for NLP"
   ]
  },
  {
   "cell_type": "code",
   "execution_count": 22,
   "id": "f4aa4b58",
   "metadata": {},
   "outputs": [],
   "source": [
    "dataset = dataset.fillna(\"\")\n",
    "dataset[\"tags\"] = dataset[\"overview\"] + dataset[\"genres\"] + dataset[\"keywords\"] + dataset[\"crew\"] + dataset[\"cast\"]\n",
    "dataset = dataset[[\"title\", \"id\", \"tags\"]]"
   ]
  },
  {
   "cell_type": "markdown",
   "id": "2601fd48",
   "metadata": {},
   "source": [
    "## Vectorizing the tags column"
   ]
  },
  {
   "cell_type": "code",
   "execution_count": 23,
   "id": "61db0e6c",
   "metadata": {},
   "outputs": [],
   "source": [
    "cv = CountVectorizer(max_features=5000)\n",
    "vector = cv.fit_transform(dataset[\"tags\"])"
   ]
  },
  {
   "cell_type": "markdown",
   "id": "e6e21141",
   "metadata": {},
   "source": [
    "## Saving only the needed data"
   ]
  },
  {
   "cell_type": "code",
   "execution_count": 24,
   "id": "0e2a2150",
   "metadata": {},
   "outputs": [],
   "source": [
    "os.makedirs(\"./app/artifacts\", exist_ok=True)\n",
    "pickle.dump(dataset[[\"title\", \"id\"]], open('./app/artifacts/movie_list.pkl', 'wb'))\n",
    "save_npz('./app/artifacts/vector_matrix.npz', csr_matrix(vector))"
   ]
  }
 ],
 "metadata": {
  "kernelspec": {
   "display_name": "Python 3",
   "language": "python",
   "name": "python3"
  },
  "language_info": {
   "codemirror_mode": {
    "name": "ipython",
    "version": 3
   },
   "file_extension": ".py",
   "mimetype": "text/x-python",
   "name": "python",
   "nbconvert_exporter": "python",
   "pygments_lexer": "ipython3",
   "version": "3.11.9"
  }
 },
 "nbformat": 4,
 "nbformat_minor": 5
}
